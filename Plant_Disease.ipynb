{
  "nbformat": 4,
  "nbformat_minor": 0,
  "metadata": {
    "colab": {
      "name": "Plant Disease.ipynb",
      "provenance": [],
      "include_colab_link": true
    },
    "kernelspec": {
      "name": "python3",
      "display_name": "Python 3"
    },
    "accelerator": "GPU",
    "widgets": {
      "application/vnd.jupyter.widget-state+json": {
        "be2ce4cd1ce24c8a90c52d9930a7334a": {
          "model_module": "@jupyter-widgets/controls",
          "model_name": "HBoxModel",
          "state": {
            "_view_name": "HBoxView",
            "_dom_classes": [],
            "_model_name": "HBoxModel",
            "_view_module": "@jupyter-widgets/controls",
            "_model_module_version": "1.5.0",
            "_view_count": null,
            "_view_module_version": "1.5.0",
            "box_style": "",
            "layout": "IPY_MODEL_8e247bdec5314abbb79d5644985d657a",
            "_model_module": "@jupyter-widgets/controls",
            "children": [
              "IPY_MODEL_a296d75f25984c708315710d7986e3e6",
              "IPY_MODEL_76633ee2369641b48b0deee562d41be9"
            ]
          }
        },
        "8e247bdec5314abbb79d5644985d657a": {
          "model_module": "@jupyter-widgets/base",
          "model_name": "LayoutModel",
          "state": {
            "_view_name": "LayoutView",
            "grid_template_rows": null,
            "right": null,
            "justify_content": null,
            "_view_module": "@jupyter-widgets/base",
            "overflow": null,
            "_model_module_version": "1.2.0",
            "_view_count": null,
            "flex_flow": null,
            "width": null,
            "min_width": null,
            "border": null,
            "align_items": null,
            "bottom": null,
            "_model_module": "@jupyter-widgets/base",
            "top": null,
            "grid_column": null,
            "overflow_y": null,
            "overflow_x": null,
            "grid_auto_flow": null,
            "grid_area": null,
            "grid_template_columns": null,
            "flex": null,
            "_model_name": "LayoutModel",
            "justify_items": null,
            "grid_row": null,
            "max_height": null,
            "align_content": null,
            "visibility": null,
            "align_self": null,
            "height": null,
            "min_height": null,
            "padding": null,
            "grid_auto_rows": null,
            "grid_gap": null,
            "max_width": null,
            "order": null,
            "_view_module_version": "1.2.0",
            "grid_template_areas": null,
            "object_position": null,
            "object_fit": null,
            "grid_auto_columns": null,
            "margin": null,
            "display": null,
            "left": null
          }
        },
        "a296d75f25984c708315710d7986e3e6": {
          "model_module": "@jupyter-widgets/controls",
          "model_name": "FloatProgressModel",
          "state": {
            "_view_name": "ProgressView",
            "style": "IPY_MODEL_f1a38ce7c1f04e808978b7eb2e98c62f",
            "_dom_classes": [],
            "description": "Dl Completed...: 100%",
            "_model_name": "FloatProgressModel",
            "bar_style": "success",
            "max": 1,
            "_view_module": "@jupyter-widgets/controls",
            "_model_module_version": "1.5.0",
            "value": 1,
            "_view_count": null,
            "_view_module_version": "1.5.0",
            "orientation": "horizontal",
            "min": 0,
            "description_tooltip": null,
            "_model_module": "@jupyter-widgets/controls",
            "layout": "IPY_MODEL_43e435cafde64af5905622e372c36684"
          }
        },
        "76633ee2369641b48b0deee562d41be9": {
          "model_module": "@jupyter-widgets/controls",
          "model_name": "HTMLModel",
          "state": {
            "_view_name": "HTMLView",
            "style": "IPY_MODEL_16b250eb69f84461b0dde43178e335dc",
            "_dom_classes": [],
            "description": "",
            "_model_name": "HTMLModel",
            "placeholder": "​",
            "_view_module": "@jupyter-widgets/controls",
            "_model_module_version": "1.5.0",
            "value": " 1/1 [01:08&lt;00:00, 68.39s/ url]",
            "_view_count": null,
            "_view_module_version": "1.5.0",
            "description_tooltip": null,
            "_model_module": "@jupyter-widgets/controls",
            "layout": "IPY_MODEL_7cff725e2137459980676b3b35e2bf0f"
          }
        },
        "f1a38ce7c1f04e808978b7eb2e98c62f": {
          "model_module": "@jupyter-widgets/controls",
          "model_name": "ProgressStyleModel",
          "state": {
            "_view_name": "StyleView",
            "_model_name": "ProgressStyleModel",
            "description_width": "initial",
            "_view_module": "@jupyter-widgets/base",
            "_model_module_version": "1.5.0",
            "_view_count": null,
            "_view_module_version": "1.2.0",
            "bar_color": null,
            "_model_module": "@jupyter-widgets/controls"
          }
        },
        "43e435cafde64af5905622e372c36684": {
          "model_module": "@jupyter-widgets/base",
          "model_name": "LayoutModel",
          "state": {
            "_view_name": "LayoutView",
            "grid_template_rows": null,
            "right": null,
            "justify_content": null,
            "_view_module": "@jupyter-widgets/base",
            "overflow": null,
            "_model_module_version": "1.2.0",
            "_view_count": null,
            "flex_flow": null,
            "width": null,
            "min_width": null,
            "border": null,
            "align_items": null,
            "bottom": null,
            "_model_module": "@jupyter-widgets/base",
            "top": null,
            "grid_column": null,
            "overflow_y": null,
            "overflow_x": null,
            "grid_auto_flow": null,
            "grid_area": null,
            "grid_template_columns": null,
            "flex": null,
            "_model_name": "LayoutModel",
            "justify_items": null,
            "grid_row": null,
            "max_height": null,
            "align_content": null,
            "visibility": null,
            "align_self": null,
            "height": null,
            "min_height": null,
            "padding": null,
            "grid_auto_rows": null,
            "grid_gap": null,
            "max_width": null,
            "order": null,
            "_view_module_version": "1.2.0",
            "grid_template_areas": null,
            "object_position": null,
            "object_fit": null,
            "grid_auto_columns": null,
            "margin": null,
            "display": null,
            "left": null
          }
        },
        "16b250eb69f84461b0dde43178e335dc": {
          "model_module": "@jupyter-widgets/controls",
          "model_name": "DescriptionStyleModel",
          "state": {
            "_view_name": "StyleView",
            "_model_name": "DescriptionStyleModel",
            "description_width": "",
            "_view_module": "@jupyter-widgets/base",
            "_model_module_version": "1.5.0",
            "_view_count": null,
            "_view_module_version": "1.2.0",
            "_model_module": "@jupyter-widgets/controls"
          }
        },
        "7cff725e2137459980676b3b35e2bf0f": {
          "model_module": "@jupyter-widgets/base",
          "model_name": "LayoutModel",
          "state": {
            "_view_name": "LayoutView",
            "grid_template_rows": null,
            "right": null,
            "justify_content": null,
            "_view_module": "@jupyter-widgets/base",
            "overflow": null,
            "_model_module_version": "1.2.0",
            "_view_count": null,
            "flex_flow": null,
            "width": null,
            "min_width": null,
            "border": null,
            "align_items": null,
            "bottom": null,
            "_model_module": "@jupyter-widgets/base",
            "top": null,
            "grid_column": null,
            "overflow_y": null,
            "overflow_x": null,
            "grid_auto_flow": null,
            "grid_area": null,
            "grid_template_columns": null,
            "flex": null,
            "_model_name": "LayoutModel",
            "justify_items": null,
            "grid_row": null,
            "max_height": null,
            "align_content": null,
            "visibility": null,
            "align_self": null,
            "height": null,
            "min_height": null,
            "padding": null,
            "grid_auto_rows": null,
            "grid_gap": null,
            "max_width": null,
            "order": null,
            "_view_module_version": "1.2.0",
            "grid_template_areas": null,
            "object_position": null,
            "object_fit": null,
            "grid_auto_columns": null,
            "margin": null,
            "display": null,
            "left": null
          }
        },
        "f73ee99257564a90b67d5ec459490908": {
          "model_module": "@jupyter-widgets/controls",
          "model_name": "HBoxModel",
          "state": {
            "_view_name": "HBoxView",
            "_dom_classes": [],
            "_model_name": "HBoxModel",
            "_view_module": "@jupyter-widgets/controls",
            "_model_module_version": "1.5.0",
            "_view_count": null,
            "_view_module_version": "1.5.0",
            "box_style": "",
            "layout": "IPY_MODEL_8563f62a142546ef849216a47f2a3699",
            "_model_module": "@jupyter-widgets/controls",
            "children": [
              "IPY_MODEL_5524de75c10c4d498be27ca697a6f4d5",
              "IPY_MODEL_84aa810d40854710b33784b164a35f47"
            ]
          }
        },
        "8563f62a142546ef849216a47f2a3699": {
          "model_module": "@jupyter-widgets/base",
          "model_name": "LayoutModel",
          "state": {
            "_view_name": "LayoutView",
            "grid_template_rows": null,
            "right": null,
            "justify_content": null,
            "_view_module": "@jupyter-widgets/base",
            "overflow": null,
            "_model_module_version": "1.2.0",
            "_view_count": null,
            "flex_flow": null,
            "width": null,
            "min_width": null,
            "border": null,
            "align_items": null,
            "bottom": null,
            "_model_module": "@jupyter-widgets/base",
            "top": null,
            "grid_column": null,
            "overflow_y": null,
            "overflow_x": null,
            "grid_auto_flow": null,
            "grid_area": null,
            "grid_template_columns": null,
            "flex": null,
            "_model_name": "LayoutModel",
            "justify_items": null,
            "grid_row": null,
            "max_height": null,
            "align_content": null,
            "visibility": null,
            "align_self": null,
            "height": null,
            "min_height": null,
            "padding": null,
            "grid_auto_rows": null,
            "grid_gap": null,
            "max_width": null,
            "order": null,
            "_view_module_version": "1.2.0",
            "grid_template_areas": null,
            "object_position": null,
            "object_fit": null,
            "grid_auto_columns": null,
            "margin": null,
            "display": null,
            "left": null
          }
        },
        "5524de75c10c4d498be27ca697a6f4d5": {
          "model_module": "@jupyter-widgets/controls",
          "model_name": "FloatProgressModel",
          "state": {
            "_view_name": "ProgressView",
            "style": "IPY_MODEL_526bdd8ded0a4a34aba87589c09696d6",
            "_dom_classes": [],
            "description": "Dl Size...: 100%",
            "_model_name": "FloatProgressModel",
            "bar_style": "success",
            "max": 1,
            "_view_module": "@jupyter-widgets/controls",
            "_model_module_version": "1.5.0",
            "value": 1,
            "_view_count": null,
            "_view_module_version": "1.5.0",
            "orientation": "horizontal",
            "min": 0,
            "description_tooltip": null,
            "_model_module": "@jupyter-widgets/controls",
            "layout": "IPY_MODEL_8ff983ba94da4626b38fc8e16c2356d4"
          }
        },
        "84aa810d40854710b33784b164a35f47": {
          "model_module": "@jupyter-widgets/controls",
          "model_name": "HTMLModel",
          "state": {
            "_view_name": "HTMLView",
            "style": "IPY_MODEL_c2a203307fee4d7d86481f0832044657",
            "_dom_classes": [],
            "description": "",
            "_model_name": "HTMLModel",
            "placeholder": "​",
            "_view_module": "@jupyter-widgets/controls",
            "_model_module_version": "1.5.0",
            "value": " 827/827 [01:08&lt;00:00, 12.10 MiB/s]",
            "_view_count": null,
            "_view_module_version": "1.5.0",
            "description_tooltip": null,
            "_model_module": "@jupyter-widgets/controls",
            "layout": "IPY_MODEL_36b7fe8f3b004f72aa56ae42d62f4d53"
          }
        },
        "526bdd8ded0a4a34aba87589c09696d6": {
          "model_module": "@jupyter-widgets/controls",
          "model_name": "ProgressStyleModel",
          "state": {
            "_view_name": "StyleView",
            "_model_name": "ProgressStyleModel",
            "description_width": "initial",
            "_view_module": "@jupyter-widgets/base",
            "_model_module_version": "1.5.0",
            "_view_count": null,
            "_view_module_version": "1.2.0",
            "bar_color": null,
            "_model_module": "@jupyter-widgets/controls"
          }
        },
        "8ff983ba94da4626b38fc8e16c2356d4": {
          "model_module": "@jupyter-widgets/base",
          "model_name": "LayoutModel",
          "state": {
            "_view_name": "LayoutView",
            "grid_template_rows": null,
            "right": null,
            "justify_content": null,
            "_view_module": "@jupyter-widgets/base",
            "overflow": null,
            "_model_module_version": "1.2.0",
            "_view_count": null,
            "flex_flow": null,
            "width": null,
            "min_width": null,
            "border": null,
            "align_items": null,
            "bottom": null,
            "_model_module": "@jupyter-widgets/base",
            "top": null,
            "grid_column": null,
            "overflow_y": null,
            "overflow_x": null,
            "grid_auto_flow": null,
            "grid_area": null,
            "grid_template_columns": null,
            "flex": null,
            "_model_name": "LayoutModel",
            "justify_items": null,
            "grid_row": null,
            "max_height": null,
            "align_content": null,
            "visibility": null,
            "align_self": null,
            "height": null,
            "min_height": null,
            "padding": null,
            "grid_auto_rows": null,
            "grid_gap": null,
            "max_width": null,
            "order": null,
            "_view_module_version": "1.2.0",
            "grid_template_areas": null,
            "object_position": null,
            "object_fit": null,
            "grid_auto_columns": null,
            "margin": null,
            "display": null,
            "left": null
          }
        },
        "c2a203307fee4d7d86481f0832044657": {
          "model_module": "@jupyter-widgets/controls",
          "model_name": "DescriptionStyleModel",
          "state": {
            "_view_name": "StyleView",
            "_model_name": "DescriptionStyleModel",
            "description_width": "",
            "_view_module": "@jupyter-widgets/base",
            "_model_module_version": "1.5.0",
            "_view_count": null,
            "_view_module_version": "1.2.0",
            "_model_module": "@jupyter-widgets/controls"
          }
        },
        "36b7fe8f3b004f72aa56ae42d62f4d53": {
          "model_module": "@jupyter-widgets/base",
          "model_name": "LayoutModel",
          "state": {
            "_view_name": "LayoutView",
            "grid_template_rows": null,
            "right": null,
            "justify_content": null,
            "_view_module": "@jupyter-widgets/base",
            "overflow": null,
            "_model_module_version": "1.2.0",
            "_view_count": null,
            "flex_flow": null,
            "width": null,
            "min_width": null,
            "border": null,
            "align_items": null,
            "bottom": null,
            "_model_module": "@jupyter-widgets/base",
            "top": null,
            "grid_column": null,
            "overflow_y": null,
            "overflow_x": null,
            "grid_auto_flow": null,
            "grid_area": null,
            "grid_template_columns": null,
            "flex": null,
            "_model_name": "LayoutModel",
            "justify_items": null,
            "grid_row": null,
            "max_height": null,
            "align_content": null,
            "visibility": null,
            "align_self": null,
            "height": null,
            "min_height": null,
            "padding": null,
            "grid_auto_rows": null,
            "grid_gap": null,
            "max_width": null,
            "order": null,
            "_view_module_version": "1.2.0",
            "grid_template_areas": null,
            "object_position": null,
            "object_fit": null,
            "grid_auto_columns": null,
            "margin": null,
            "display": null,
            "left": null
          }
        },
        "16b17a7acaff4917b4b0c816e5f07657": {
          "model_module": "@jupyter-widgets/controls",
          "model_name": "HBoxModel",
          "state": {
            "_view_name": "HBoxView",
            "_dom_classes": [],
            "_model_name": "HBoxModel",
            "_view_module": "@jupyter-widgets/controls",
            "_model_module_version": "1.5.0",
            "_view_count": null,
            "_view_module_version": "1.5.0",
            "box_style": "",
            "layout": "IPY_MODEL_8514aa2ecd59415eafd51fc0e7fd689c",
            "_model_module": "@jupyter-widgets/controls",
            "children": [
              "IPY_MODEL_a7d15fca522c424e958aa1aba45b807a",
              "IPY_MODEL_37ce66609bac4db6ac14a7205dcb49d5"
            ]
          }
        },
        "8514aa2ecd59415eafd51fc0e7fd689c": {
          "model_module": "@jupyter-widgets/base",
          "model_name": "LayoutModel",
          "state": {
            "_view_name": "LayoutView",
            "grid_template_rows": null,
            "right": null,
            "justify_content": null,
            "_view_module": "@jupyter-widgets/base",
            "overflow": null,
            "_model_module_version": "1.2.0",
            "_view_count": null,
            "flex_flow": null,
            "width": null,
            "min_width": null,
            "border": null,
            "align_items": null,
            "bottom": null,
            "_model_module": "@jupyter-widgets/base",
            "top": null,
            "grid_column": null,
            "overflow_y": null,
            "overflow_x": null,
            "grid_auto_flow": null,
            "grid_area": null,
            "grid_template_columns": null,
            "flex": null,
            "_model_name": "LayoutModel",
            "justify_items": null,
            "grid_row": null,
            "max_height": null,
            "align_content": null,
            "visibility": null,
            "align_self": null,
            "height": null,
            "min_height": null,
            "padding": null,
            "grid_auto_rows": null,
            "grid_gap": null,
            "max_width": null,
            "order": null,
            "_view_module_version": "1.2.0",
            "grid_template_areas": null,
            "object_position": null,
            "object_fit": null,
            "grid_auto_columns": null,
            "margin": null,
            "display": null,
            "left": null
          }
        },
        "a7d15fca522c424e958aa1aba45b807a": {
          "model_module": "@jupyter-widgets/controls",
          "model_name": "FloatProgressModel",
          "state": {
            "_view_name": "ProgressView",
            "style": "IPY_MODEL_4b177fe47cce41319fca682924cd2c4e",
            "_dom_classes": [],
            "description": "Extraction completed...: 100%",
            "_model_name": "FloatProgressModel",
            "bar_style": "success",
            "max": 1,
            "_view_module": "@jupyter-widgets/controls",
            "_model_module_version": "1.5.0",
            "value": 1,
            "_view_count": null,
            "_view_module_version": "1.5.0",
            "orientation": "horizontal",
            "min": 0,
            "description_tooltip": null,
            "_model_module": "@jupyter-widgets/controls",
            "layout": "IPY_MODEL_0a11ae98064c4326bd66b5d7d2e4deae"
          }
        },
        "37ce66609bac4db6ac14a7205dcb49d5": {
          "model_module": "@jupyter-widgets/controls",
          "model_name": "HTMLModel",
          "state": {
            "_view_name": "HTMLView",
            "style": "IPY_MODEL_df634d0231dc490c8b1babd1f68f122e",
            "_dom_classes": [],
            "description": "",
            "_model_name": "HTMLModel",
            "placeholder": "​",
            "_view_module": "@jupyter-widgets/controls",
            "_model_module_version": "1.5.0",
            "value": " 1/1 [01:08&lt;00:00, 68.32s/ file]",
            "_view_count": null,
            "_view_module_version": "1.5.0",
            "description_tooltip": null,
            "_model_module": "@jupyter-widgets/controls",
            "layout": "IPY_MODEL_9a3fa6cad75045c69a6183251f48aa21"
          }
        },
        "4b177fe47cce41319fca682924cd2c4e": {
          "model_module": "@jupyter-widgets/controls",
          "model_name": "ProgressStyleModel",
          "state": {
            "_view_name": "StyleView",
            "_model_name": "ProgressStyleModel",
            "description_width": "initial",
            "_view_module": "@jupyter-widgets/base",
            "_model_module_version": "1.5.0",
            "_view_count": null,
            "_view_module_version": "1.2.0",
            "bar_color": null,
            "_model_module": "@jupyter-widgets/controls"
          }
        },
        "0a11ae98064c4326bd66b5d7d2e4deae": {
          "model_module": "@jupyter-widgets/base",
          "model_name": "LayoutModel",
          "state": {
            "_view_name": "LayoutView",
            "grid_template_rows": null,
            "right": null,
            "justify_content": null,
            "_view_module": "@jupyter-widgets/base",
            "overflow": null,
            "_model_module_version": "1.2.0",
            "_view_count": null,
            "flex_flow": null,
            "width": null,
            "min_width": null,
            "border": null,
            "align_items": null,
            "bottom": null,
            "_model_module": "@jupyter-widgets/base",
            "top": null,
            "grid_column": null,
            "overflow_y": null,
            "overflow_x": null,
            "grid_auto_flow": null,
            "grid_area": null,
            "grid_template_columns": null,
            "flex": null,
            "_model_name": "LayoutModel",
            "justify_items": null,
            "grid_row": null,
            "max_height": null,
            "align_content": null,
            "visibility": null,
            "align_self": null,
            "height": null,
            "min_height": null,
            "padding": null,
            "grid_auto_rows": null,
            "grid_gap": null,
            "max_width": null,
            "order": null,
            "_view_module_version": "1.2.0",
            "grid_template_areas": null,
            "object_position": null,
            "object_fit": null,
            "grid_auto_columns": null,
            "margin": null,
            "display": null,
            "left": null
          }
        },
        "df634d0231dc490c8b1babd1f68f122e": {
          "model_module": "@jupyter-widgets/controls",
          "model_name": "DescriptionStyleModel",
          "state": {
            "_view_name": "StyleView",
            "_model_name": "DescriptionStyleModel",
            "description_width": "",
            "_view_module": "@jupyter-widgets/base",
            "_model_module_version": "1.5.0",
            "_view_count": null,
            "_view_module_version": "1.2.0",
            "_model_module": "@jupyter-widgets/controls"
          }
        },
        "9a3fa6cad75045c69a6183251f48aa21": {
          "model_module": "@jupyter-widgets/base",
          "model_name": "LayoutModel",
          "state": {
            "_view_name": "LayoutView",
            "grid_template_rows": null,
            "right": null,
            "justify_content": null,
            "_view_module": "@jupyter-widgets/base",
            "overflow": null,
            "_model_module_version": "1.2.0",
            "_view_count": null,
            "flex_flow": null,
            "width": null,
            "min_width": null,
            "border": null,
            "align_items": null,
            "bottom": null,
            "_model_module": "@jupyter-widgets/base",
            "top": null,
            "grid_column": null,
            "overflow_y": null,
            "overflow_x": null,
            "grid_auto_flow": null,
            "grid_area": null,
            "grid_template_columns": null,
            "flex": null,
            "_model_name": "LayoutModel",
            "justify_items": null,
            "grid_row": null,
            "max_height": null,
            "align_content": null,
            "visibility": null,
            "align_self": null,
            "height": null,
            "min_height": null,
            "padding": null,
            "grid_auto_rows": null,
            "grid_gap": null,
            "max_width": null,
            "order": null,
            "_view_module_version": "1.2.0",
            "grid_template_areas": null,
            "object_position": null,
            "object_fit": null,
            "grid_auto_columns": null,
            "margin": null,
            "display": null,
            "left": null
          }
        },
        "22e6a5747a514d878fa2039f2df756c7": {
          "model_module": "@jupyter-widgets/controls",
          "model_name": "HBoxModel",
          "state": {
            "_view_name": "HBoxView",
            "_dom_classes": [],
            "_model_name": "HBoxModel",
            "_view_module": "@jupyter-widgets/controls",
            "_model_module_version": "1.5.0",
            "_view_count": null,
            "_view_module_version": "1.5.0",
            "box_style": "",
            "layout": "IPY_MODEL_c0c9d6558e8a4ae1b429cedb4acf14f5",
            "_model_module": "@jupyter-widgets/controls",
            "children": [
              "IPY_MODEL_f62fa25f7c1f4f8f961d1a9fdd4f516b",
              "IPY_MODEL_11b47b4cc024436ca083876ffd9fd3cf"
            ]
          }
        },
        "c0c9d6558e8a4ae1b429cedb4acf14f5": {
          "model_module": "@jupyter-widgets/base",
          "model_name": "LayoutModel",
          "state": {
            "_view_name": "LayoutView",
            "grid_template_rows": null,
            "right": null,
            "justify_content": null,
            "_view_module": "@jupyter-widgets/base",
            "overflow": null,
            "_model_module_version": "1.2.0",
            "_view_count": null,
            "flex_flow": null,
            "width": null,
            "min_width": null,
            "border": null,
            "align_items": null,
            "bottom": null,
            "_model_module": "@jupyter-widgets/base",
            "top": null,
            "grid_column": null,
            "overflow_y": null,
            "overflow_x": null,
            "grid_auto_flow": null,
            "grid_area": null,
            "grid_template_columns": null,
            "flex": null,
            "_model_name": "LayoutModel",
            "justify_items": null,
            "grid_row": null,
            "max_height": null,
            "align_content": null,
            "visibility": null,
            "align_self": null,
            "height": null,
            "min_height": null,
            "padding": null,
            "grid_auto_rows": null,
            "grid_gap": null,
            "max_width": null,
            "order": null,
            "_view_module_version": "1.2.0",
            "grid_template_areas": null,
            "object_position": null,
            "object_fit": null,
            "grid_auto_columns": null,
            "margin": null,
            "display": null,
            "left": null
          }
        },
        "f62fa25f7c1f4f8f961d1a9fdd4f516b": {
          "model_module": "@jupyter-widgets/controls",
          "model_name": "FloatProgressModel",
          "state": {
            "_view_name": "ProgressView",
            "style": "IPY_MODEL_7accf94d90f54b1f8b740a068ab492ed",
            "_dom_classes": [],
            "description": "",
            "_model_name": "FloatProgressModel",
            "bar_style": "info",
            "max": 1,
            "_view_module": "@jupyter-widgets/controls",
            "_model_module_version": "1.5.0",
            "value": 1,
            "_view_count": null,
            "_view_module_version": "1.5.0",
            "orientation": "horizontal",
            "min": 0,
            "description_tooltip": null,
            "_model_module": "@jupyter-widgets/controls",
            "layout": "IPY_MODEL_480f64e7cab6421090ad2ae3dce46df9"
          }
        },
        "11b47b4cc024436ca083876ffd9fd3cf": {
          "model_module": "@jupyter-widgets/controls",
          "model_name": "HTMLModel",
          "state": {
            "_view_name": "HTMLView",
            "style": "IPY_MODEL_a239493bd3df481697199f50452e7bad",
            "_dom_classes": [],
            "description": "",
            "_model_name": "HTMLModel",
            "placeholder": "​",
            "_view_module": "@jupyter-widgets/controls",
            "_model_module_version": "1.5.0",
            "value": " 54303/0 [00:23&lt;00:00, 2444.04 examples/s]",
            "_view_count": null,
            "_view_module_version": "1.5.0",
            "description_tooltip": null,
            "_model_module": "@jupyter-widgets/controls",
            "layout": "IPY_MODEL_c2680d4ae83a48cda96ba8d53ae08517"
          }
        },
        "7accf94d90f54b1f8b740a068ab492ed": {
          "model_module": "@jupyter-widgets/controls",
          "model_name": "ProgressStyleModel",
          "state": {
            "_view_name": "StyleView",
            "_model_name": "ProgressStyleModel",
            "description_width": "initial",
            "_view_module": "@jupyter-widgets/base",
            "_model_module_version": "1.5.0",
            "_view_count": null,
            "_view_module_version": "1.2.0",
            "bar_color": null,
            "_model_module": "@jupyter-widgets/controls"
          }
        },
        "480f64e7cab6421090ad2ae3dce46df9": {
          "model_module": "@jupyter-widgets/base",
          "model_name": "LayoutModel",
          "state": {
            "_view_name": "LayoutView",
            "grid_template_rows": null,
            "right": null,
            "justify_content": null,
            "_view_module": "@jupyter-widgets/base",
            "overflow": null,
            "_model_module_version": "1.2.0",
            "_view_count": null,
            "flex_flow": null,
            "width": null,
            "min_width": null,
            "border": null,
            "align_items": null,
            "bottom": null,
            "_model_module": "@jupyter-widgets/base",
            "top": null,
            "grid_column": null,
            "overflow_y": null,
            "overflow_x": null,
            "grid_auto_flow": null,
            "grid_area": null,
            "grid_template_columns": null,
            "flex": null,
            "_model_name": "LayoutModel",
            "justify_items": null,
            "grid_row": null,
            "max_height": null,
            "align_content": null,
            "visibility": null,
            "align_self": null,
            "height": null,
            "min_height": null,
            "padding": null,
            "grid_auto_rows": null,
            "grid_gap": null,
            "max_width": null,
            "order": null,
            "_view_module_version": "1.2.0",
            "grid_template_areas": null,
            "object_position": null,
            "object_fit": null,
            "grid_auto_columns": null,
            "margin": null,
            "display": null,
            "left": null
          }
        },
        "a239493bd3df481697199f50452e7bad": {
          "model_module": "@jupyter-widgets/controls",
          "model_name": "DescriptionStyleModel",
          "state": {
            "_view_name": "StyleView",
            "_model_name": "DescriptionStyleModel",
            "description_width": "",
            "_view_module": "@jupyter-widgets/base",
            "_model_module_version": "1.5.0",
            "_view_count": null,
            "_view_module_version": "1.2.0",
            "_model_module": "@jupyter-widgets/controls"
          }
        },
        "c2680d4ae83a48cda96ba8d53ae08517": {
          "model_module": "@jupyter-widgets/base",
          "model_name": "LayoutModel",
          "state": {
            "_view_name": "LayoutView",
            "grid_template_rows": null,
            "right": null,
            "justify_content": null,
            "_view_module": "@jupyter-widgets/base",
            "overflow": null,
            "_model_module_version": "1.2.0",
            "_view_count": null,
            "flex_flow": null,
            "width": null,
            "min_width": null,
            "border": null,
            "align_items": null,
            "bottom": null,
            "_model_module": "@jupyter-widgets/base",
            "top": null,
            "grid_column": null,
            "overflow_y": null,
            "overflow_x": null,
            "grid_auto_flow": null,
            "grid_area": null,
            "grid_template_columns": null,
            "flex": null,
            "_model_name": "LayoutModel",
            "justify_items": null,
            "grid_row": null,
            "max_height": null,
            "align_content": null,
            "visibility": null,
            "align_self": null,
            "height": null,
            "min_height": null,
            "padding": null,
            "grid_auto_rows": null,
            "grid_gap": null,
            "max_width": null,
            "order": null,
            "_view_module_version": "1.2.0",
            "grid_template_areas": null,
            "object_position": null,
            "object_fit": null,
            "grid_auto_columns": null,
            "margin": null,
            "display": null,
            "left": null
          }
        },
        "73aa73bda7e24575a1836ea7ebf5a09d": {
          "model_module": "@jupyter-widgets/controls",
          "model_name": "HBoxModel",
          "state": {
            "_view_name": "HBoxView",
            "_dom_classes": [],
            "_model_name": "HBoxModel",
            "_view_module": "@jupyter-widgets/controls",
            "_model_module_version": "1.5.0",
            "_view_count": null,
            "_view_module_version": "1.5.0",
            "box_style": "",
            "layout": "IPY_MODEL_a976f6a8a23642ada9156c5416dc1326",
            "_model_module": "@jupyter-widgets/controls",
            "children": [
              "IPY_MODEL_7f2ff10109d84ac29fab4adef2b9202a",
              "IPY_MODEL_66f75f6fdc2e46b8925f6dfb0b311fd8"
            ]
          }
        },
        "a976f6a8a23642ada9156c5416dc1326": {
          "model_module": "@jupyter-widgets/base",
          "model_name": "LayoutModel",
          "state": {
            "_view_name": "LayoutView",
            "grid_template_rows": null,
            "right": null,
            "justify_content": null,
            "_view_module": "@jupyter-widgets/base",
            "overflow": null,
            "_model_module_version": "1.2.0",
            "_view_count": null,
            "flex_flow": null,
            "width": null,
            "min_width": null,
            "border": null,
            "align_items": null,
            "bottom": null,
            "_model_module": "@jupyter-widgets/base",
            "top": null,
            "grid_column": null,
            "overflow_y": null,
            "overflow_x": null,
            "grid_auto_flow": null,
            "grid_area": null,
            "grid_template_columns": null,
            "flex": null,
            "_model_name": "LayoutModel",
            "justify_items": null,
            "grid_row": null,
            "max_height": null,
            "align_content": null,
            "visibility": null,
            "align_self": null,
            "height": null,
            "min_height": null,
            "padding": null,
            "grid_auto_rows": null,
            "grid_gap": null,
            "max_width": null,
            "order": null,
            "_view_module_version": "1.2.0",
            "grid_template_areas": null,
            "object_position": null,
            "object_fit": null,
            "grid_auto_columns": null,
            "margin": null,
            "display": null,
            "left": null
          }
        },
        "7f2ff10109d84ac29fab4adef2b9202a": {
          "model_module": "@jupyter-widgets/controls",
          "model_name": "FloatProgressModel",
          "state": {
            "_view_name": "ProgressView",
            "style": "IPY_MODEL_4b628f32ad3743d894c5e0c879ceb14d",
            "_dom_classes": [],
            "description": " 95%",
            "_model_name": "FloatProgressModel",
            "bar_style": "danger",
            "max": 54303,
            "_view_module": "@jupyter-widgets/controls",
            "_model_module_version": "1.5.0",
            "value": 51853,
            "_view_count": null,
            "_view_module_version": "1.5.0",
            "orientation": "horizontal",
            "min": 0,
            "description_tooltip": null,
            "_model_module": "@jupyter-widgets/controls",
            "layout": "IPY_MODEL_52cd501ea5214a96b5fab669231c22fc"
          }
        },
        "66f75f6fdc2e46b8925f6dfb0b311fd8": {
          "model_module": "@jupyter-widgets/controls",
          "model_name": "HTMLModel",
          "state": {
            "_view_name": "HTMLView",
            "style": "IPY_MODEL_77dafbaacea14b5683d58d7d3bd6eefc",
            "_dom_classes": [],
            "description": "",
            "_model_name": "HTMLModel",
            "placeholder": "​",
            "_view_module": "@jupyter-widgets/controls",
            "_model_module_version": "1.5.0",
            "value": " 51853/54303 [00:21&lt;00:00, 3937.66 examples/s]",
            "_view_count": null,
            "_view_module_version": "1.5.0",
            "description_tooltip": null,
            "_model_module": "@jupyter-widgets/controls",
            "layout": "IPY_MODEL_9e1e16225d4842d6965e3a24b176558f"
          }
        },
        "4b628f32ad3743d894c5e0c879ceb14d": {
          "model_module": "@jupyter-widgets/controls",
          "model_name": "ProgressStyleModel",
          "state": {
            "_view_name": "StyleView",
            "_model_name": "ProgressStyleModel",
            "description_width": "initial",
            "_view_module": "@jupyter-widgets/base",
            "_model_module_version": "1.5.0",
            "_view_count": null,
            "_view_module_version": "1.2.0",
            "bar_color": null,
            "_model_module": "@jupyter-widgets/controls"
          }
        },
        "52cd501ea5214a96b5fab669231c22fc": {
          "model_module": "@jupyter-widgets/base",
          "model_name": "LayoutModel",
          "state": {
            "_view_name": "LayoutView",
            "grid_template_rows": null,
            "right": null,
            "justify_content": null,
            "_view_module": "@jupyter-widgets/base",
            "overflow": null,
            "_model_module_version": "1.2.0",
            "_view_count": null,
            "flex_flow": null,
            "width": null,
            "min_width": null,
            "border": null,
            "align_items": null,
            "bottom": null,
            "_model_module": "@jupyter-widgets/base",
            "top": null,
            "grid_column": null,
            "overflow_y": null,
            "overflow_x": null,
            "grid_auto_flow": null,
            "grid_area": null,
            "grid_template_columns": null,
            "flex": null,
            "_model_name": "LayoutModel",
            "justify_items": null,
            "grid_row": null,
            "max_height": null,
            "align_content": null,
            "visibility": null,
            "align_self": null,
            "height": null,
            "min_height": null,
            "padding": null,
            "grid_auto_rows": null,
            "grid_gap": null,
            "max_width": null,
            "order": null,
            "_view_module_version": "1.2.0",
            "grid_template_areas": null,
            "object_position": null,
            "object_fit": null,
            "grid_auto_columns": null,
            "margin": null,
            "display": null,
            "left": null
          }
        },
        "77dafbaacea14b5683d58d7d3bd6eefc": {
          "model_module": "@jupyter-widgets/controls",
          "model_name": "DescriptionStyleModel",
          "state": {
            "_view_name": "StyleView",
            "_model_name": "DescriptionStyleModel",
            "description_width": "",
            "_view_module": "@jupyter-widgets/base",
            "_model_module_version": "1.5.0",
            "_view_count": null,
            "_view_module_version": "1.2.0",
            "_model_module": "@jupyter-widgets/controls"
          }
        },
        "9e1e16225d4842d6965e3a24b176558f": {
          "model_module": "@jupyter-widgets/base",
          "model_name": "LayoutModel",
          "state": {
            "_view_name": "LayoutView",
            "grid_template_rows": null,
            "right": null,
            "justify_content": null,
            "_view_module": "@jupyter-widgets/base",
            "overflow": null,
            "_model_module_version": "1.2.0",
            "_view_count": null,
            "flex_flow": null,
            "width": null,
            "min_width": null,
            "border": null,
            "align_items": null,
            "bottom": null,
            "_model_module": "@jupyter-widgets/base",
            "top": null,
            "grid_column": null,
            "overflow_y": null,
            "overflow_x": null,
            "grid_auto_flow": null,
            "grid_area": null,
            "grid_template_columns": null,
            "flex": null,
            "_model_name": "LayoutModel",
            "justify_items": null,
            "grid_row": null,
            "max_height": null,
            "align_content": null,
            "visibility": null,
            "align_self": null,
            "height": null,
            "min_height": null,
            "padding": null,
            "grid_auto_rows": null,
            "grid_gap": null,
            "max_width": null,
            "order": null,
            "_view_module_version": "1.2.0",
            "grid_template_areas": null,
            "object_position": null,
            "object_fit": null,
            "grid_auto_columns": null,
            "margin": null,
            "display": null,
            "left": null
          }
        }
      }
    }
  },
  "cells": [
    {
      "cell_type": "markdown",
      "metadata": {
        "id": "view-in-github",
        "colab_type": "text"
      },
      "source": [
        "<a href=\"https://colab.research.google.com/github/manavnair2000/BankingApp/blob/master/Plant_Disease.ipynb\" target=\"_parent\"><img src=\"https://colab.research.google.com/assets/colab-badge.svg\" alt=\"Open In Colab\"/></a>"
      ]
    },
    {
      "cell_type": "code",
      "metadata": {
        "id": "KclsWEVEwHSC",
        "colab_type": "code",
        "outputId": "10f372cb-b16d-418c-e027-883aa4634106",
        "colab": {
          "base_uri": "https://localhost:8080/",
          "height": 122
        }
      },
      "source": [
        "from google.colab import drive\n",
        "drive.mount('/content/drive')"
      ],
      "execution_count": 1,
      "outputs": [
        {
          "output_type": "stream",
          "text": [
            "Go to this URL in a browser: https://accounts.google.com/o/oauth2/auth?client_id=947318989803-6bn6qk8qdgf4n4g3pfee6491hc0brc4i.apps.googleusercontent.com&redirect_uri=urn%3aietf%3awg%3aoauth%3a2.0%3aoob&response_type=code&scope=email%20https%3a%2f%2fwww.googleapis.com%2fauth%2fdocs.test%20https%3a%2f%2fwww.googleapis.com%2fauth%2fdrive%20https%3a%2f%2fwww.googleapis.com%2fauth%2fdrive.photos.readonly%20https%3a%2f%2fwww.googleapis.com%2fauth%2fpeopleapi.readonly\n",
            "\n",
            "Enter your authorization code:\n",
            "··········\n",
            "Mounted at /content/drive\n"
          ],
          "name": "stdout"
        }
      ]
    },
    {
      "cell_type": "code",
      "metadata": {
        "id": "SSZ5VxxAJ3nl",
        "colab_type": "code",
        "colab": {}
      },
      "source": [
        "import tensorflow as tf\n",
        "AUTOTUNE = 1\n",
        "# import IPython.display as display\n",
        "# from PIL import Image\n",
        "import tensorflow_datasets as tfds\n",
        "import numpy as np\n",
        "import datetime\n",
        "import matplotlib.pyplot as plt\n",
        "# import os\n",
        "EPOCHS = 35"
      ],
      "execution_count": 0,
      "outputs": []
    },
    {
      "cell_type": "code",
      "metadata": {
        "id": "_Oglx2au7D1b",
        "colab_type": "code",
        "outputId": "75498dbd-4b87-4816-f9d5-b9fccafeab6d",
        "colab": {
          "base_uri": "https://localhost:8080/",
          "height": 34
        }
      },
      "source": [
        "AUTOTUNE"
      ],
      "execution_count": 4,
      "outputs": [
        {
          "output_type": "execute_result",
          "data": {
            "text/plain": [
              "1"
            ]
          },
          "metadata": {
            "tags": []
          },
          "execution_count": 4
        }
      ]
    },
    {
      "cell_type": "code",
      "metadata": {
        "id": "TxmbDaRIwC6k",
        "colab_type": "code",
        "colab": {}
      },
      "source": [
        "log_dir= \"/content/drive/My Drive/Colab Notebooks/src/\" + datetime.datetime.now().strftime(\"%Y%m%d-%H%M%S\")\n",
        "callbacks = tf.keras.callbacks.TensorBoard(log_dir=log_dir,histogram_freq=1)"
      ],
      "execution_count": 0,
      "outputs": []
    },
    {
      "cell_type": "code",
      "metadata": {
        "id": "MPRgIAwnJ9Ba",
        "colab_type": "code",
        "outputId": "120f40cf-b7a9-4dab-91fb-bada231ac253",
        "colab": {
          "base_uri": "https://localhost:8080/",
          "height": 420,
          "referenced_widgets": [
            "be2ce4cd1ce24c8a90c52d9930a7334a",
            "8e247bdec5314abbb79d5644985d657a",
            "a296d75f25984c708315710d7986e3e6",
            "76633ee2369641b48b0deee562d41be9",
            "f1a38ce7c1f04e808978b7eb2e98c62f",
            "43e435cafde64af5905622e372c36684",
            "16b250eb69f84461b0dde43178e335dc",
            "7cff725e2137459980676b3b35e2bf0f",
            "f73ee99257564a90b67d5ec459490908",
            "8563f62a142546ef849216a47f2a3699",
            "5524de75c10c4d498be27ca697a6f4d5",
            "84aa810d40854710b33784b164a35f47",
            "526bdd8ded0a4a34aba87589c09696d6",
            "8ff983ba94da4626b38fc8e16c2356d4",
            "c2a203307fee4d7d86481f0832044657",
            "36b7fe8f3b004f72aa56ae42d62f4d53",
            "16b17a7acaff4917b4b0c816e5f07657",
            "8514aa2ecd59415eafd51fc0e7fd689c",
            "a7d15fca522c424e958aa1aba45b807a",
            "37ce66609bac4db6ac14a7205dcb49d5",
            "4b177fe47cce41319fca682924cd2c4e",
            "0a11ae98064c4326bd66b5d7d2e4deae",
            "df634d0231dc490c8b1babd1f68f122e",
            "9a3fa6cad75045c69a6183251f48aa21",
            "22e6a5747a514d878fa2039f2df756c7",
            "c0c9d6558e8a4ae1b429cedb4acf14f5",
            "f62fa25f7c1f4f8f961d1a9fdd4f516b",
            "11b47b4cc024436ca083876ffd9fd3cf",
            "7accf94d90f54b1f8b740a068ab492ed",
            "480f64e7cab6421090ad2ae3dce46df9",
            "a239493bd3df481697199f50452e7bad",
            "c2680d4ae83a48cda96ba8d53ae08517",
            "73aa73bda7e24575a1836ea7ebf5a09d",
            "a976f6a8a23642ada9156c5416dc1326",
            "7f2ff10109d84ac29fab4adef2b9202a",
            "66f75f6fdc2e46b8925f6dfb0b311fd8",
            "4b628f32ad3743d894c5e0c879ceb14d",
            "52cd501ea5214a96b5fab669231c22fc",
            "77dafbaacea14b5683d58d7d3bd6eefc",
            "9e1e16225d4842d6965e3a24b176558f"
          ]
        }
      },
      "source": [
        "(ds_train , ds_test, ds_eval), ds_info = tfds.load('plant_village', split=['train[:70%]', 'train[-20%:90%]','train[-10%:]'],as_supervised=True, shuffle_files=True ,with_info=True)"
      ],
      "execution_count": 6,
      "outputs": [
        {
          "output_type": "stream",
          "text": [
            "\u001b[1mDownloading and preparing dataset plant_village/1.0.0 (download: 827.82 MiB, generated: Unknown size, total: 827.82 MiB) to /root/tensorflow_datasets/plant_village/1.0.0...\u001b[0m\n"
          ],
          "name": "stdout"
        },
        {
          "output_type": "display_data",
          "data": {
            "application/vnd.jupyter.widget-view+json": {
              "model_id": "be2ce4cd1ce24c8a90c52d9930a7334a",
              "version_minor": 0,
              "version_major": 2
            },
            "text/plain": [
              "HBox(children=(FloatProgress(value=1.0, bar_style='info', description='Dl Completed...', max=1.0, style=Progre…"
            ]
          },
          "metadata": {
            "tags": []
          }
        },
        {
          "output_type": "display_data",
          "data": {
            "application/vnd.jupyter.widget-view+json": {
              "model_id": "f73ee99257564a90b67d5ec459490908",
              "version_minor": 0,
              "version_major": 2
            },
            "text/plain": [
              "HBox(children=(FloatProgress(value=1.0, bar_style='info', description='Dl Size...', max=1.0, style=ProgressSty…"
            ]
          },
          "metadata": {
            "tags": []
          }
        },
        {
          "output_type": "display_data",
          "data": {
            "application/vnd.jupyter.widget-view+json": {
              "model_id": "16b17a7acaff4917b4b0c816e5f07657",
              "version_minor": 0,
              "version_major": 2
            },
            "text/plain": [
              "HBox(children=(FloatProgress(value=1.0, bar_style='info', description='Extraction completed...', max=1.0, styl…"
            ]
          },
          "metadata": {
            "tags": []
          }
        },
        {
          "output_type": "stream",
          "text": [
            "/usr/local/lib/python3.6/dist-packages/urllib3/connectionpool.py:847: InsecureRequestWarning: Unverified HTTPS request is being made. Adding certificate verification is strongly advised. See: https://urllib3.readthedocs.io/en/latest/advanced-usage.html#ssl-warnings\n",
            "  InsecureRequestWarning)\n",
            "/usr/local/lib/python3.6/dist-packages/urllib3/connectionpool.py:847: InsecureRequestWarning: Unverified HTTPS request is being made. Adding certificate verification is strongly advised. See: https://urllib3.readthedocs.io/en/latest/advanced-usage.html#ssl-warnings\n",
            "  InsecureRequestWarning)\n",
            "/usr/local/lib/python3.6/dist-packages/urllib3/connectionpool.py:847: InsecureRequestWarning: Unverified HTTPS request is being made. Adding certificate verification is strongly advised. See: https://urllib3.readthedocs.io/en/latest/advanced-usage.html#ssl-warnings\n",
            "  InsecureRequestWarning)\n"
          ],
          "name": "stderr"
        },
        {
          "output_type": "stream",
          "text": [
            "\n",
            "\n",
            "\n",
            "\n",
            "\n",
            "\n"
          ],
          "name": "stdout"
        },
        {
          "output_type": "display_data",
          "data": {
            "application/vnd.jupyter.widget-view+json": {
              "model_id": "22e6a5747a514d878fa2039f2df756c7",
              "version_minor": 0,
              "version_major": 2
            },
            "text/plain": [
              "HBox(children=(FloatProgress(value=1.0, bar_style='info', max=1.0), HTML(value='')))"
            ]
          },
          "metadata": {
            "tags": []
          }
        },
        {
          "output_type": "stream",
          "text": [
            "\rShuffling and writing examples to /root/tensorflow_datasets/plant_village/1.0.0.incompleteGZNRO1/plant_village-train.tfrecord\n"
          ],
          "name": "stdout"
        },
        {
          "output_type": "display_data",
          "data": {
            "application/vnd.jupyter.widget-view+json": {
              "model_id": "73aa73bda7e24575a1836ea7ebf5a09d",
              "version_minor": 0,
              "version_major": 2
            },
            "text/plain": [
              "HBox(children=(FloatProgress(value=0.0, max=54303.0), HTML(value='')))"
            ]
          },
          "metadata": {
            "tags": []
          }
        },
        {
          "output_type": "stream",
          "text": [
            "\u001b[1mDataset plant_village downloaded and prepared to /root/tensorflow_datasets/plant_village/1.0.0. Subsequent calls will reuse this data.\u001b[0m\n"
          ],
          "name": "stdout"
        }
      ]
    },
    {
      "cell_type": "code",
      "metadata": {
        "id": "D_wykN7IwL4u",
        "colab_type": "code",
        "outputId": "ce066300-29fc-46ec-ed51-72d521129173",
        "colab": {
          "base_uri": "https://localhost:8080/",
          "height": 34
        }
      },
      "source": [
        "print(ds_info.splits['train[:75%]'].num_examples)"
      ],
      "execution_count": 7,
      "outputs": [
        {
          "output_type": "stream",
          "text": [
            "40727\n"
          ],
          "name": "stdout"
        }
      ]
    },
    {
      "cell_type": "code",
      "metadata": {
        "id": "g72aMalCx7Vm",
        "colab_type": "code",
        "outputId": "f35108a0-771e-4e07-cdd5-b7f1a29e47ba",
        "colab": {
          "base_uri": "https://localhost:8080/",
          "height": 34
        }
      },
      "source": [
        "tf.data.DatasetSpec.from_value(ds_train)\n"
      ],
      "execution_count": 8,
      "outputs": [
        {
          "output_type": "execute_result",
          "data": {
            "text/plain": [
              "DatasetSpec((TensorSpec(shape=(None, None, 3), dtype=tf.uint8, name=None), TensorSpec(shape=(), dtype=tf.int64, name=None)), TensorShape([]))"
            ]
          },
          "metadata": {
            "tags": []
          },
          "execution_count": 8
        }
      ]
    },
    {
      "cell_type": "code",
      "metadata": {
        "id": "K4dWDUi_7CQ0",
        "colab_type": "code",
        "colab": {}
      },
      "source": [
        "def normalize_img(image, label):\n",
        "  \"\"\"Normalizes images: `uint8` -> `float32`.\"\"\"\n",
        "  return tf.cast(image, tf.float32) / 255., label\n",
        "def augment(image,label):\n",
        "  image = tf.image.resize_with_crop_or_pad(image, 262, 262) # Add 6 pixels of padding\n",
        "  image = tf.image.random_flip_up_down(image)\n",
        "  image = tf.image.random_flip_left_right(image)\n",
        "  image = tf.image.random_saturation(image,1,3)\n",
        "  image = tf.image.random_contrast(image, 0.2, 0.5)\n",
        "  image = tf.image.random_crop(image, size=[256, 256, 3]) # Random crop back to 256x256\n",
        "  image = tf.image.random_brightness(image, max_delta=0.5) # Random brightness\n",
        "  return image,label\n",
        " \n",
        "ds_train = ds_train.map(normalize_img, num_parallel_calls=4)\n",
        "ds_train = ds_train.concatenate(ds_train.map(augment, num_parallel_calls=4))\n",
        "#ds_train = ds_train.cache()\n",
        "ds_train = ds_train.shuffle(1000)#ds_info.splits['train[:75%]'].num_examples)\n",
        "ds_train = ds_train.batch(86,drop_remainder = True)\n",
        "#ds_train = ds_train.prefetch(AUTOTUNE)"
      ],
      "execution_count": 0,
      "outputs": []
    },
    {
      "cell_type": "code",
      "metadata": {
        "id": "RZHfwI0xvyZh",
        "colab_type": "code",
        "outputId": "09262934-45c5-4548-b72f-c2e48238aff5",
        "colab": {
          "base_uri": "https://localhost:8080/",
          "height": 34
        }
      },
      "source": [
        "tf.data.DatasetSpec.from_value(ds_train)\n"
      ],
      "execution_count": 10,
      "outputs": [
        {
          "output_type": "execute_result",
          "data": {
            "text/plain": [
              "DatasetSpec((TensorSpec(shape=(86, None, None, 3), dtype=tf.float32, name=None), TensorSpec(shape=(86,), dtype=tf.int64, name=None)), TensorShape([]))"
            ]
          },
          "metadata": {
            "tags": []
          },
          "execution_count": 10
        }
      ]
    },
    {
      "cell_type": "code",
      "metadata": {
        "id": "DvvvEx-eEsR2",
        "colab_type": "code",
        "colab": {}
      },
      "source": [
        "ds_test = ds_test.map(normalize_img, num_parallel_calls=4)\n",
        "# ds_test = ds_test.shuffle(ds_info.splits['train[-25%:]'].num_examples)\n",
        "ds_test = ds_test.batch(160,drop_remainder = True)\n",
        "# ds_test = ds_test.cache()\n",
        "# ds_test = ds_test.prefetch(AUTOTUNE)"
      ],
      "execution_count": 0,
      "outputs": []
    },
    {
      "cell_type": "code",
      "metadata": {
        "id": "VvQCnk_aICwA",
        "colab_type": "code",
        "colab": {}
      },
      "source": [
        "model = tf.keras.models.Sequential([\n",
        "    tf.keras.layers.Conv2D(20,5,strides=(1,1),input_shape=(256,256,3),padding='same',kernel_initializer='VarianceScaling',activation='relu'),\n",
        "    tf.keras.layers.MaxPool2D(pool_size=(2,2),strides=(2,2),padding='same'),\n",
        "    tf.keras.layers.Dropout(0.23),\n",
        "    tf.keras.layers.Conv2D(27,5,strides=(1,1),padding='same',kernel_initializer='VarianceScaling',activation='relu'), #input_shape=(128,128,3),\n",
        "    tf.keras.layers.MaxPool2D(pool_size=(2,2),strides=(2,2),padding='same'),\n",
        "    tf.keras.layers.Dropout(0.23),\n",
        "    tf.keras.layers.Conv2D(36,5,strides=(1,1),padding='same',kernel_initializer='VarianceScaling',activation='relu'), #input_shape=(64,64,3),\n",
        "    tf.keras.layers.MaxPool2D(pool_size=(2,2),strides=(2,2),padding='same'),\n",
        "    tf.keras.layers.Dropout(0.23),\n",
        "    tf.keras.layers.Conv2D(48,5,strides=(1,1),padding='same',kernel_initializer='VarianceScaling',activation='relu'), #input_shape=(28,28,3),\n",
        "    tf.keras.layers.MaxPool2D(pool_size=(2,2),strides=(2,2),padding='same'),\n",
        "    tf.keras.layers.Dropout(0.23),\n",
        "    tf.keras.layers.Conv2D(64,5,strides=(1,1),padding='same',kernel_initializer='VarianceScaling',activation='relu'),\n",
        "    tf.keras.layers.MaxPool2D(pool_size=(2,2),strides=(1,1),padding='same'),\n",
        "    tf.keras.layers.Dropout(0.23),\n",
        "    tf.keras.layers.Flatten(),\n",
        "    tf.keras.layers.Dense(16281,activation='relu',kernel_initializer='VarianceScaling'),\n",
        "    tf.keras.layers.Dense(38,activation='softmax',kernel_initializer='VarianceScaling')\n",
        "])"
      ],
      "execution_count": 0,
      "outputs": []
    },
    {
      "cell_type": "code",
      "metadata": {
        "id": "lJFTalyvwwro",
        "colab_type": "code",
        "colab": {}
      },
      "source": [
        "model.compile(\n",
        "    loss='sparse_categorical_crossentropy',\n",
        "    optimizer=tf.keras.optimizers.SGD(learning_rate=0.0095,momentum=0.070),\n",
        "    metrics=['accuracy']\n",
        ")"
      ],
      "execution_count": 0,
      "outputs": []
    },
    {
      "cell_type": "code",
      "metadata": {
        "id": "3753zaQ4ioRr",
        "colab_type": "code",
        "outputId": "614e6e52-71a4-4b58-b0a4-e74a58574ab8",
        "colab": {
          "base_uri": "https://localhost:8080/",
          "height": 765
        }
      },
      "source": [
        "model.summary()"
      ],
      "execution_count": 14,
      "outputs": [
        {
          "output_type": "stream",
          "text": [
            "Model: \"sequential\"\n",
            "_________________________________________________________________\n",
            "Layer (type)                 Output Shape              Param #   \n",
            "=================================================================\n",
            "conv2d (Conv2D)              (None, 256, 256, 20)      1520      \n",
            "_________________________________________________________________\n",
            "max_pooling2d (MaxPooling2D) (None, 128, 128, 20)      0         \n",
            "_________________________________________________________________\n",
            "dropout (Dropout)            (None, 128, 128, 20)      0         \n",
            "_________________________________________________________________\n",
            "conv2d_1 (Conv2D)            (None, 128, 128, 27)      13527     \n",
            "_________________________________________________________________\n",
            "max_pooling2d_1 (MaxPooling2 (None, 64, 64, 27)        0         \n",
            "_________________________________________________________________\n",
            "dropout_1 (Dropout)          (None, 64, 64, 27)        0         \n",
            "_________________________________________________________________\n",
            "conv2d_2 (Conv2D)            (None, 64, 64, 36)        24336     \n",
            "_________________________________________________________________\n",
            "max_pooling2d_2 (MaxPooling2 (None, 32, 32, 36)        0         \n",
            "_________________________________________________________________\n",
            "dropout_2 (Dropout)          (None, 32, 32, 36)        0         \n",
            "_________________________________________________________________\n",
            "conv2d_3 (Conv2D)            (None, 32, 32, 48)        43248     \n",
            "_________________________________________________________________\n",
            "max_pooling2d_3 (MaxPooling2 (None, 16, 16, 48)        0         \n",
            "_________________________________________________________________\n",
            "dropout_3 (Dropout)          (None, 16, 16, 48)        0         \n",
            "_________________________________________________________________\n",
            "conv2d_4 (Conv2D)            (None, 16, 16, 64)        76864     \n",
            "_________________________________________________________________\n",
            "max_pooling2d_4 (MaxPooling2 (None, 16, 16, 64)        0         \n",
            "_________________________________________________________________\n",
            "dropout_4 (Dropout)          (None, 16, 16, 64)        0         \n",
            "_________________________________________________________________\n",
            "flatten (Flatten)            (None, 16384)             0         \n",
            "_________________________________________________________________\n",
            "dense (Dense)                (None, 16281)             266764185 \n",
            "_________________________________________________________________\n",
            "dense_1 (Dense)              (None, 38)                618716    \n",
            "=================================================================\n",
            "Total params: 267,542,396\n",
            "Trainable params: 267,542,396\n",
            "Non-trainable params: 0\n",
            "_________________________________________________________________\n"
          ],
          "name": "stdout"
        }
      ]
    },
    {
      "cell_type": "code",
      "metadata": {
        "id": "nd6Ny5-jz2XF",
        "colab_type": "code",
        "outputId": "6799d580-97e0-4acf-81e5-be4e53b23cf4",
        "colab": {
          "base_uri": "https://localhost:8080/",
          "height": 1000
        }
      },
      "source": [
        "history = model.fit( ds_train,\n",
        "    epochs=EPOCHS,\n",
        "    verbose=1,\n",
        "    validation_data=ds_test,\n",
        "    callbacks=[callbacks]\n",
        ") "
      ],
      "execution_count": 15,
      "outputs": [
        {
          "output_type": "stream",
          "text": [
            "Epoch 1/35\n",
            "884/884 [==============================] - 260s 294ms/step - loss: 2.8654 - accuracy: 0.2422 - val_loss: 2.4195 - val_accuracy: 0.2930\n",
            "Epoch 2/35\n",
            "884/884 [==============================] - 269s 305ms/step - loss: 1.5627 - accuracy: 0.5441 - val_loss: 1.4200 - val_accuracy: 0.5746\n",
            "Epoch 3/35\n",
            "884/884 [==============================] - 271s 306ms/step - loss: 1.0695 - accuracy: 0.6775 - val_loss: 1.0726 - val_accuracy: 0.6706\n",
            "Epoch 4/35\n",
            "884/884 [==============================] - 274s 310ms/step - loss: 0.8086 - accuracy: 0.7542 - val_loss: 1.0650 - val_accuracy: 0.6845\n",
            "Epoch 5/35\n",
            "884/884 [==============================] - 271s 307ms/step - loss: 0.6556 - accuracy: 0.7988 - val_loss: 0.8392 - val_accuracy: 0.7473\n",
            "Epoch 6/35\n",
            "884/884 [==============================] - 270s 306ms/step - loss: 0.5517 - accuracy: 0.8303 - val_loss: 0.7967 - val_accuracy: 0.7667\n",
            "Epoch 7/35\n",
            "884/884 [==============================] - 268s 303ms/step - loss: 0.4649 - accuracy: 0.8543 - val_loss: 0.8172 - val_accuracy: 0.7542\n",
            "Epoch 8/35\n",
            "884/884 [==============================] - 266s 300ms/step - loss: 0.4216 - accuracy: 0.8708 - val_loss: 0.7856 - val_accuracy: 0.7739\n",
            "Epoch 9/35\n",
            "884/884 [==============================] - 264s 298ms/step - loss: 0.3614 - accuracy: 0.8871 - val_loss: 0.5106 - val_accuracy: 0.8509\n",
            "Epoch 10/35\n",
            "884/884 [==============================] - 263s 297ms/step - loss: 0.3190 - accuracy: 0.8981 - val_loss: 0.5271 - val_accuracy: 0.8379\n",
            "Epoch 11/35\n",
            "884/884 [==============================] - 264s 298ms/step - loss: 0.2911 - accuracy: 0.9080 - val_loss: 0.5007 - val_accuracy: 0.8513\n",
            "Epoch 12/35\n",
            "884/884 [==============================] - 264s 299ms/step - loss: 0.2611 - accuracy: 0.9162 - val_loss: 0.5168 - val_accuracy: 0.8508\n",
            "Epoch 13/35\n",
            "884/884 [==============================] - 261s 295ms/step - loss: 0.2436 - accuracy: 0.9229 - val_loss: 0.4863 - val_accuracy: 0.8557\n",
            "Epoch 14/35\n",
            "884/884 [==============================] - 264s 299ms/step - loss: 0.2187 - accuracy: 0.9312 - val_loss: 0.4943 - val_accuracy: 0.8602\n",
            "Epoch 15/35\n",
            "884/884 [==============================] - 265s 299ms/step - loss: 0.2094 - accuracy: 0.9326 - val_loss: 0.4456 - val_accuracy: 0.8727\n",
            "Epoch 16/35\n",
            "884/884 [==============================] - 265s 300ms/step - loss: 0.1927 - accuracy: 0.9389 - val_loss: 0.4103 - val_accuracy: 0.8782\n",
            "Epoch 17/35\n",
            "884/884 [==============================] - 263s 298ms/step - loss: 0.1814 - accuracy: 0.9436 - val_loss: 0.4337 - val_accuracy: 0.8816\n",
            "Epoch 18/35\n",
            "884/884 [==============================] - 263s 297ms/step - loss: 0.1693 - accuracy: 0.9464 - val_loss: 0.4022 - val_accuracy: 0.8858\n",
            "Epoch 19/35\n",
            "884/884 [==============================] - 263s 297ms/step - loss: 0.1569 - accuracy: 0.9503 - val_loss: 0.4874 - val_accuracy: 0.8758\n",
            "Epoch 20/35\n",
            "884/884 [==============================] - 263s 297ms/step - loss: 0.1495 - accuracy: 0.9524 - val_loss: 0.4408 - val_accuracy: 0.8820\n",
            "Epoch 21/35\n",
            "884/884 [==============================] - 263s 298ms/step - loss: 0.1415 - accuracy: 0.9541 - val_loss: 0.4199 - val_accuracy: 0.8907\n",
            "Epoch 22/35\n",
            "884/884 [==============================] - 263s 297ms/step - loss: 0.1341 - accuracy: 0.9566 - val_loss: 0.3974 - val_accuracy: 0.8924\n",
            "Epoch 23/35\n",
            "884/884 [==============================] - 263s 298ms/step - loss: 0.1286 - accuracy: 0.9590 - val_loss: 0.4879 - val_accuracy: 0.8705\n",
            "Epoch 24/35\n",
            "884/884 [==============================] - 263s 298ms/step - loss: 0.1233 - accuracy: 0.9603 - val_loss: 0.3646 - val_accuracy: 0.9045\n",
            "Epoch 25/35\n",
            "884/884 [==============================] - 262s 296ms/step - loss: 0.1197 - accuracy: 0.9620 - val_loss: 0.3987 - val_accuracy: 0.8939\n",
            "Epoch 26/35\n",
            "884/884 [==============================] - 262s 296ms/step - loss: 0.1131 - accuracy: 0.9636 - val_loss: 0.3811 - val_accuracy: 0.8981\n",
            "Epoch 27/35\n",
            "884/884 [==============================] - 263s 298ms/step - loss: 0.1098 - accuracy: 0.9646 - val_loss: 0.3763 - val_accuracy: 0.9006\n",
            "Epoch 28/35\n",
            "884/884 [==============================] - 263s 297ms/step - loss: 0.0993 - accuracy: 0.9679 - val_loss: 0.3454 - val_accuracy: 0.9074\n",
            "Epoch 29/35\n",
            "884/884 [==============================] - 263s 298ms/step - loss: 0.1004 - accuracy: 0.9674 - val_loss: 0.3584 - val_accuracy: 0.9049\n",
            "Epoch 30/35\n",
            "884/884 [==============================] - 263s 298ms/step - loss: 0.0923 - accuracy: 0.9698 - val_loss: 0.3876 - val_accuracy: 0.9019\n",
            "Epoch 31/35\n",
            "884/884 [==============================] - 262s 297ms/step - loss: 0.0925 - accuracy: 0.9703 - val_loss: 0.3198 - val_accuracy: 0.9201\n",
            "Epoch 32/35\n",
            "884/884 [==============================] - 263s 297ms/step - loss: 0.0835 - accuracy: 0.9727 - val_loss: 0.3595 - val_accuracy: 0.9119\n",
            "Epoch 33/35\n",
            "884/884 [==============================] - 262s 297ms/step - loss: 0.0846 - accuracy: 0.9729 - val_loss: 0.3202 - val_accuracy: 0.9169\n",
            "Epoch 34/35\n",
            "884/884 [==============================] - 262s 297ms/step - loss: 0.0793 - accuracy: 0.9743 - val_loss: 0.3698 - val_accuracy: 0.9066\n",
            "Epoch 35/35\n",
            "884/884 [==============================] - 262s 296ms/step - loss: 0.0788 - accuracy: 0.9739 - val_loss: 0.3057 - val_accuracy: 0.9220\n"
          ],
          "name": "stdout"
        }
      ]
    },
    {
      "cell_type": "code",
      "metadata": {
        "id": "BpIxomD6B0ea",
        "colab_type": "code",
        "colab": {}
      },
      "source": [
        "\n",
        "# ds_eval = ds_eval.shuffle(1000)\n",
        "# ds_eval = ds_eval.batch(64,drop_remainder = True)\n",
        "# model.evaluate(ds_eval,verbose=1)"
      ],
      "execution_count": 0,
      "outputs": []
    },
    {
      "cell_type": "code",
      "metadata": {
        "id": "R7-bOHzgZ6fY",
        "colab_type": "code",
        "colab": {}
      },
      "source": [
        "ds_info.splits['train[-10%:]'].num_examples"
      ],
      "execution_count": 0,
      "outputs": []
    },
    {
      "cell_type": "code",
      "metadata": {
        "id": "8RVuICYpTk6Q",
        "colab_type": "code",
        "colab": {}
      },
      "source": [
        "%tensorflow -V"
      ],
      "execution_count": 0,
      "outputs": []
    },
    {
      "cell_type": "code",
      "metadata": {
        "id": "Jno6WqKGZNzX",
        "colab_type": "code",
        "colab": {
          "base_uri": "https://localhost:8080/",
          "height": 1000
        },
        "outputId": "94dd26e7-ecc4-45ee-f4eb-0313ab5aa080"
      },
      "source": [
        "for image,label in ds_eval.take(39):\n",
        "  print(\"Actual output label:\",ds_info.features[\"label\"].names[label])\n",
        "  #print(tf.cast(image, tf.float32) / 255.)\n",
        "  imageT = tf.cast(image, tf.float32) / 255.\n",
        "  imageT = tf.cast(imageT, tf.float32)\n",
        "  #imageT = tf.reshape(imageT,(-1,imageT.get_shape()))\n",
        "  imageT = tf.reshape(imageT,(-1,256,256,3))\n",
        "  #print(imageT.get_shape())\n",
        "  #print((tf.cast(image, tf.float32) / 255.).set_shape((256,256,3,)))\n",
        "  print(\"Predicted output label:\",ds_info.features[\"label\"].names[model.predict_classes(imageT,batch_size=1)[0]])"
      ],
      "execution_count": 16,
      "outputs": [
        {
          "output_type": "stream",
          "text": [
            "Actual output label: Apple___Black_rot\n",
            "WARNING:tensorflow:From <ipython-input-16-a42978fcae22>:10: Sequential.predict_classes (from tensorflow.python.keras.engine.sequential) is deprecated and will be removed after 2021-01-01.\n",
            "Instructions for updating:\n",
            "Please use instead:* `np.argmax(model.predict(x), axis=-1)`,   if your model does multi-class classification   (e.g. if it uses a `softmax` last-layer activation).* `(model.predict(x) > 0.5).astype(\"int32\")`,   if your model does binary classification   (e.g. if it uses a `sigmoid` last-layer activation).\n"
          ],
          "name": "stdout"
        },
        {
          "output_type": "stream",
          "text": [
            "WARNING:tensorflow:From <ipython-input-16-a42978fcae22>:10: Sequential.predict_classes (from tensorflow.python.keras.engine.sequential) is deprecated and will be removed after 2021-01-01.\n",
            "Instructions for updating:\n",
            "Please use instead:* `np.argmax(model.predict(x), axis=-1)`,   if your model does multi-class classification   (e.g. if it uses a `softmax` last-layer activation).* `(model.predict(x) > 0.5).astype(\"int32\")`,   if your model does binary classification   (e.g. if it uses a `sigmoid` last-layer activation).\n"
          ],
          "name": "stderr"
        },
        {
          "output_type": "stream",
          "text": [
            "Predicted output label: Apple___Black_rot\n",
            "Actual output label: Potato___Late_blight\n",
            "Predicted output label: Potato___Late_blight\n",
            "Actual output label: Corn___healthy\n",
            "Predicted output label: Corn___healthy\n",
            "Actual output label: Tomato___Tomato_Yellow_Leaf_Curl_Virus\n",
            "Predicted output label: Tomato___Tomato_Yellow_Leaf_Curl_Virus\n",
            "Actual output label: Tomato___Tomato_mosaic_virus\n",
            "Predicted output label: Tomato___Tomato_mosaic_virus\n",
            "Actual output label: Orange___Haunglongbing_(Citrus_greening)\n",
            "Predicted output label: Orange___Haunglongbing_(Citrus_greening)\n",
            "Actual output label: Peach___Bacterial_spot\n",
            "Predicted output label: Peach___Bacterial_spot\n",
            "Actual output label: Pepper,_bell___healthy\n",
            "Predicted output label: Pepper,_bell___healthy\n",
            "Actual output label: Peach___Bacterial_spot\n",
            "Predicted output label: Peach___Bacterial_spot\n",
            "Actual output label: Potato___Early_blight\n",
            "Predicted output label: Potato___Early_blight\n",
            "Actual output label: Orange___Haunglongbing_(Citrus_greening)\n",
            "Predicted output label: Orange___Haunglongbing_(Citrus_greening)\n",
            "Actual output label: Tomato___Early_blight\n",
            "Predicted output label: Tomato___Early_blight\n",
            "Actual output label: Squash___Powdery_mildew\n",
            "Predicted output label: Squash___Powdery_mildew\n",
            "Actual output label: Tomato___Septoria_leaf_spot\n",
            "Predicted output label: Tomato___Septoria_leaf_spot\n",
            "Actual output label: Corn___Common_rust\n",
            "Predicted output label: Corn___Common_rust\n",
            "Actual output label: Orange___Haunglongbing_(Citrus_greening)\n",
            "Predicted output label: Tomato___Spider_mites Two-spotted_spider_mite\n",
            "Actual output label: Tomato___Bacterial_spot\n",
            "Predicted output label: Tomato___Bacterial_spot\n",
            "Actual output label: Tomato___Spider_mites Two-spotted_spider_mite\n",
            "Predicted output label: Tomato___Spider_mites Two-spotted_spider_mite\n",
            "Actual output label: Tomato___healthy\n",
            "Predicted output label: Tomato___healthy\n",
            "Actual output label: Tomato___Target_Spot\n",
            "Predicted output label: Tomato___Target_Spot\n",
            "Actual output label: Orange___Haunglongbing_(Citrus_greening)\n",
            "Predicted output label: Orange___Haunglongbing_(Citrus_greening)\n",
            "Actual output label: Tomato___Early_blight\n",
            "Predicted output label: Tomato___Late_blight\n",
            "Actual output label: Tomato___Spider_mites Two-spotted_spider_mite\n",
            "Predicted output label: Apple___healthy\n",
            "Actual output label: Apple___healthy\n",
            "Predicted output label: Apple___healthy\n",
            "Actual output label: Squash___Powdery_mildew\n",
            "Predicted output label: Squash___Powdery_mildew\n",
            "Actual output label: Orange___Haunglongbing_(Citrus_greening)\n",
            "Predicted output label: Orange___Haunglongbing_(Citrus_greening)\n",
            "Actual output label: Grape___Black_rot\n",
            "Predicted output label: Grape___Black_rot\n",
            "Actual output label: Soybean___healthy\n",
            "Predicted output label: Soybean___healthy\n",
            "Actual output label: Tomato___Tomato_Yellow_Leaf_Curl_Virus\n",
            "Predicted output label: Tomato___Tomato_Yellow_Leaf_Curl_Virus\n",
            "Actual output label: Tomato___Bacterial_spot\n",
            "Predicted output label: Tomato___Bacterial_spot\n",
            "Actual output label: Corn___healthy\n",
            "Predicted output label: Squash___Powdery_mildew\n",
            "Actual output label: Apple___healthy\n",
            "Predicted output label: Apple___healthy\n",
            "Actual output label: Tomato___Tomato_Yellow_Leaf_Curl_Virus\n",
            "Predicted output label: Tomato___Tomato_Yellow_Leaf_Curl_Virus\n",
            "Actual output label: Cherry___Powdery_mildew\n",
            "Predicted output label: Cherry___Powdery_mildew\n",
            "Actual output label: Orange___Haunglongbing_(Citrus_greening)\n",
            "Predicted output label: Orange___Haunglongbing_(Citrus_greening)\n",
            "Actual output label: Tomato___Tomato_Yellow_Leaf_Curl_Virus\n",
            "Predicted output label: Tomato___Tomato_Yellow_Leaf_Curl_Virus\n",
            "Actual output label: Tomato___Early_blight\n",
            "Predicted output label: Tomato___Early_blight\n",
            "Actual output label: Tomato___healthy\n",
            "Predicted output label: Tomato___healthy\n",
            "Actual output label: Tomato___Tomato_Yellow_Leaf_Curl_Virus\n",
            "Predicted output label: Tomato___Tomato_Yellow_Leaf_Curl_Virus\n"
          ],
          "name": "stdout"
        }
      ]
    }
  ]
}